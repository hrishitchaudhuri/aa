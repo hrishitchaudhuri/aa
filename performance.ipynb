{
 "cells": [
  {
   "cell_type": "code",
   "execution_count": 1,
   "metadata": {},
   "outputs": [],
   "source": [
    "import rsa\n",
    "import RSA\n",
    "import numpy as np\n",
    "import matplotlib.pyplot as plt\n",
    "from polynomial import Polynomial\n",
    "from timeit import timeit"
   ]
  },
  {
   "cell_type": "code",
   "execution_count": 2,
   "metadata": {},
   "outputs": [
    {
     "name": "stdout",
     "output_type": "stream",
     "text": [
      "2.61 ms ± 183 µs per loop (mean ± std. dev. of 7 runs, 100 loops each)\n",
      "6.37 µs ± 2.96 µs per loop (mean ± std. dev. of 7 runs, 100 loops each)\n"
     ]
    }
   ],
   "source": [
    "a = Polynomial(np.random.randint(0, 256, 128))\n",
    "%timeit -n 100 a.fft_recursive()\n",
    "%timeit -n 100 np.fft.fft(a.coef)"
   ]
  },
  {
   "cell_type": "code",
   "execution_count": 3,
   "metadata": {},
   "outputs": [
    {
     "name": "stdout",
     "output_type": "stream",
     "text": [
      "2.8 ms ± 193 µs per loop (mean ± std. dev. of 7 runs, 100 loops each)\n",
      "6.26 µs ± 2.43 µs per loop (mean ± std. dev. of 7 runs, 100 loops each)\n"
     ]
    }
   ],
   "source": [
    "%timeit -n 100 a.ifft_recursive()\n",
    "%timeit -n 100 np.fft.ifft(a.coef)"
   ]
  },
  {
   "cell_type": "code",
   "execution_count": 4,
   "metadata": {},
   "outputs": [
    {
     "name": "stdout",
     "output_type": "stream",
     "text": [
      "428 ms ± 121 ms per loop (mean ± std. dev. of 7 runs, 10 loops each)\n",
      "376 ms ± 63.6 ms per loop (mean ± std. dev. of 7 runs, 10 loops each)\n"
     ]
    }
   ],
   "source": [
    "%timeit -n 10 rsa.newkeys(1024)\n",
    "%timeit -n 10 RSA.Keys(1024)"
   ]
  },
  {
   "cell_type": "code",
   "execution_count": 5,
   "metadata": {},
   "outputs": [
    {
     "name": "stdout",
     "output_type": "stream",
     "text": [
      "69 µs ± 10.7 µs per loop (mean ± std. dev. of 7 runs, 100 loops each)\n",
      "2.07 µs ± 28.7 ns per loop (mean ± std. dev. of 7 runs, 100 loops each)\n"
     ]
    }
   ],
   "source": [
    "msg = 'AA 2021'.encode()\n",
    "pub, priv = rsa.newkeys(1024)\n",
    "keys = RSA.Keys(1024)\n",
    "%timeit -n 100 rsa.encrypt(msg, pub)\n",
    "%timeit -n 100 RSA.encrypt(msg, keys.pub, keys.N)"
   ]
  },
  {
   "cell_type": "code",
   "execution_count": 7,
   "metadata": {},
   "outputs": [
    {
     "name": "stdout",
     "output_type": "stream",
     "text": [
      "4.58 ms ± 284 µs per loop (mean ± std. dev. of 7 runs, 100 loops each)\n",
      "4.41 ms ± 20.8 µs per loop (mean ± std. dev. of 7 runs, 100 loops each)\n"
     ]
    }
   ],
   "source": [
    "c = rsa.encrypt(msg, pub)\n",
    "ci = RSA.encrypt(msg, keys.pub, keys.N)\n",
    "\n",
    "%timeit rsa.decrypt(c, priv)\n",
    "%timeit RSA.decrypt(ci, keys.priv, keys.N)"
   ]
  }
 ],
 "metadata": {
  "interpreter": {
   "hash": "871371189d8f68eb7373c53d8a5a1834208cc757ca20047faabce2f2bfe31459"
  },
  "kernelspec": {
   "display_name": "Python 3.8.3 64-bit ('base': conda)",
   "language": "python",
   "name": "python3"
  },
  "language_info": {
   "codemirror_mode": {
    "name": "ipython",
    "version": 3
   },
   "file_extension": ".py",
   "mimetype": "text/x-python",
   "name": "python",
   "nbconvert_exporter": "python",
   "pygments_lexer": "ipython3",
   "version": "3.8.3"
  },
  "orig_nbformat": 4
 },
 "nbformat": 4,
 "nbformat_minor": 2
}
