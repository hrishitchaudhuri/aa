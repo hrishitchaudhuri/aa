{
 "cells": [
  {
   "cell_type": "code",
   "execution_count": 3,
   "metadata": {},
   "outputs": [],
   "source": [
    "import rsa\n",
    "import numpy as np\n",
    "import matplotlib.pyplot as plt\n",
    "from polynomial import Polynomial\n",
    "import RSA\n",
    "from timeit import timeit"
   ]
  },
  {
   "cell_type": "code",
   "execution_count": 4,
   "metadata": {},
   "outputs": [
    {
     "name": "stdout",
     "output_type": "stream",
     "text": [
      "2.73 ms ± 189 µs per loop (mean ± std. dev. of 7 runs, 100 loops each)\n",
      "The slowest run took 4.08 times longer than the fastest. This could mean that an intermediate result is being cached.\n",
      "7.11 µs ± 4.25 µs per loop (mean ± std. dev. of 7 runs, 100 loops each)\n"
     ]
    }
   ],
   "source": [
    "a = Polynomial(np.random.randint(0, 256, 128))\n",
    "%timeit -n 100 a.fft_recursive()\n",
    "%timeit -n 100 np.fft.fft(a.coef)"
   ]
  },
  {
   "cell_type": "code",
   "execution_count": 5,
   "metadata": {},
   "outputs": [
    {
     "name": "stdout",
     "output_type": "stream",
     "text": [
      "2.91 ms ± 118 µs per loop (mean ± std. dev. of 7 runs, 100 loops each)\n",
      "7.27 µs ± 838 ns per loop (mean ± std. dev. of 7 runs, 100 loops each)\n"
     ]
    }
   ],
   "source": [
    "%timeit -n 100 a.ifft_recursive()\n",
    "%timeit -n 100 np.fft.ifft(a.coef)"
   ]
  },
  {
   "cell_type": "code",
   "execution_count": 10,
   "metadata": {},
   "outputs": [
    {
     "name": "stdout",
     "output_type": "stream",
     "text": [
      "480 ms ± 107 ms per loop (mean ± std. dev. of 7 runs, 10 loops each)\n",
      "350 ms ± 65.4 ms per loop (mean ± std. dev. of 7 runs, 10 loops each)\n"
     ]
    }
   ],
   "source": [
    "%timeit -n 10 rsa.newkeys(1024)\n",
    "%timeit -n 10 RSA.Keys(1024)"
   ]
  }
 ],
 "metadata": {
  "interpreter": {
   "hash": "871371189d8f68eb7373c53d8a5a1834208cc757ca20047faabce2f2bfe31459"
  },
  "kernelspec": {
   "display_name": "Python 3.8.3 64-bit ('base': conda)",
   "language": "python",
   "name": "python3"
  },
  "language_info": {
   "codemirror_mode": {
    "name": "ipython",
    "version": 3
   },
   "file_extension": ".py",
   "mimetype": "text/x-python",
   "name": "python",
   "nbconvert_exporter": "python",
   "pygments_lexer": "ipython3",
   "version": "3.8.3"
  },
  "orig_nbformat": 4
 },
 "nbformat": 4,
 "nbformat_minor": 2
}
